{
  "nbformat": 4,
  "nbformat_minor": 0,
  "metadata": {
    "colab": {
      "name": "DataPlan.ipynb",
      "provenance": [],
      "authorship_tag": "ABX9TyO8tNGICHgVjgJRZMyK6ZlG",
      "include_colab_link": true
    },
    "kernelspec": {
      "name": "python3",
      "display_name": "Python 3"
    },
    "language_info": {
      "name": "python"
    }
  },
  "cells": [
    {
      "cell_type": "markdown",
      "metadata": {
        "id": "view-in-github",
        "colab_type": "text"
      },
      "source": [
        "<a href=\"https://colab.research.google.com/github/KennyOwen/Kenny/blob/main/DataPlan.ipynb\" target=\"_parent\"><img src=\"https://colab.research.google.com/assets/colab-badge.svg\" alt=\"Open In Colab\"/></a>"
      ]
    },
    {
      "cell_type": "markdown",
      "source": [
        "x = 10 -> input monthly megabyte\n",
        "n= 3 -> input number of month\n",
        "\n",
        "calculate total\n",
        "total = 40 -> x * (n+1)\n",
        "\n",
        "for i in range (n):\n",
        "  #used input amount of mb user used\n",
        "  #calculate total\n",
        "  #total = total - used\n",
        "  #print total\n",
        "\n",
        "\n",
        "month 1 : 4 (used)\n",
        "month 2 : 6 (used)\n",
        "month 3 : 2 (used)\n",
        "month 4 : ?? remaining\n",
        "n + 1 ?\n",
        "\n",
        "total = total - used\n",
        "total = 40 - 4 = 36\n",
        "total = 36 - 6 = 30\n"
      ],
      "metadata": {
        "id": "dMGjZXt2Ugkj"
      }
    },
    {
      "cell_type": "code",
      "execution_count": null,
      "metadata": {
        "colab": {
          "base_uri": "https://localhost:8080/"
        },
        "id": "1ztR0JCZUQ06",
        "outputId": "1ef163d9-6ad8-4cb7-f589-6e8ae306a5f4"
      },
      "outputs": [
        {
          "output_type": "stream",
          "name": "stdout",
          "text": [
            "Insert monthly mb: 10\n",
            "Insert number of month: 3\n",
            "Insert amount of mb used: 4\n",
            "36\n",
            "Insert amount of mb used: 2\n",
            "34\n",
            "Insert amount of mb used: 6\n",
            "28\n"
          ]
        }
      ],
      "source": [
        "mb = int(input(\"Insert monthly mb: \"))\n",
        "month = int(input(\"Insert number of month: \"))\n",
        "\n",
        "total = mb * (month + 1)\n",
        "\n",
        "for i in range(month):\n",
        "  mb_used = int(input(\"Insert amount of mb used: \"))\n",
        "  total = total - mb_used\n",
        "  print(total)"
      ]
    },
    {
      "cell_type": "code",
      "source": [
        "mb = int(input(\"Insert monthly mb: \"))\n",
        "month = int(input(\"Insert number of month: \"))\n",
        "\n",
        "total = mb * (month + 1)\n",
        "count = 0\n",
        "while (count < month):\n",
        "  mb_used = int(input(\"Insert amount of mb used: \"))\n",
        "  total = total - mb_used\n",
        "  count = count + 1\n",
        "  print(total)"
      ],
      "metadata": {
        "colab": {
          "base_uri": "https://localhost:8080/"
        },
        "id": "cuW0CLKTbOqe",
        "outputId": "e18b4f51-7013-4fa5-967f-7b9dafe3b337"
      },
      "execution_count": null,
      "outputs": [
        {
          "output_type": "stream",
          "name": "stdout",
          "text": [
            "Insert monthly mb: 10\n",
            "Insert number of month: 3\n",
            "Insert amount of mb used: 2\n",
            "Insert amount of mb used: 4\n",
            "38\n",
            "34\n",
            "Insert amount of mb used: 6\n",
            "28\n"
          ]
        }
      ]
    }
  ]
}