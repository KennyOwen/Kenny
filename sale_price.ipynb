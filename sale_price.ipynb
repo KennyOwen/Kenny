{
  "nbformat": 4,
  "nbformat_minor": 0,
  "metadata": {
    "colab": {
      "name": "sale_price.ipynb",
      "provenance": [],
      "include_colab_link": true
    },
    "kernelspec": {
      "name": "python3",
      "display_name": "Python 3"
    },
    "language_info": {
      "name": "python"
    }
  },
  "cells": [
    {
      "cell_type": "markdown",
      "metadata": {
        "id": "view-in-github",
        "colab_type": "text"
      },
      "source": [
        "<a href=\"https://colab.research.google.com/github/KennyOwen/Kenny/blob/main/sale_price.ipynb\" target=\"_parent\"><img src=\"https://colab.research.google.com/assets/colab-badge.svg\" alt=\"Open In Colab\"/></a>"
      ]
    },
    {
      "cell_type": "markdown",
      "metadata": {
        "id": "cgTeiXOtSPjH"
      },
      "source": [
        "# Sales Price\n",
        "\n",
        "A local department store needs to develop a program that will computer the total price (including goods and services tax) of the item on sale when given an item's original price and discount percentage.\n",
        "\n",
        "## Tasks\n",
        "* Save to Github\n",
        "* Design Algorithm\n",
        "* Write and test the program in Python"
      ]
    },
    {
      "cell_type": "code",
      "metadata": {
        "id": "pPIN2ZcrSqdw",
        "colab": {
          "base_uri": "https://localhost:8080/"
        },
        "outputId": "5f657a39-d8db-4d7d-ed75-343a2784db16"
      },
      "source": [
        "def calculate_totalprice(originalprice, discount, tax):\n",
        "  discountedprice = originalprice - (originalprice * discount)\n",
        "  taxamount = tax * discountedprice\n",
        "  totalprice = discountedprice + taxamount\n",
        "\n",
        "  print('original price: ', originalprice)\n",
        "  print('disount price: ', discountedprice)\n",
        "  print('tax: ', tax)\n",
        "  print('total price: ', totalprice)\n",
        "\n",
        "#call the function calculate_totalprice\n",
        "calculate_totalprice(40, 0.3, 0.07)\n",
        "\n"
      ],
      "execution_count": 1,
      "outputs": [
        {
          "output_type": "stream",
          "name": "stdout",
          "text": [
            "original price:  40\n",
            "disount price:  28.0\n",
            "tax:  0.07\n",
            "total price:  29.96\n"
          ]
        }
      ]
    }
  ]
}